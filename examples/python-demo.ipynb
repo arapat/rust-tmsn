{
 "cells": [
  {
   "cell_type": "code",
   "execution_count": 1,
   "metadata": {},
   "outputs": [
    {
     "name": "stdout",
     "output_type": "stream",
     "text": [
      "Create the network connection in a cluster.\n",
      "Please see the description of the methods for more details.\n",
      "\n",
      "Methods:\n",
      "    - start_network\n",
      "    - start_network_only_send\n",
      "    - start_network_only_recv\n"
     ]
    }
   ],
   "source": [
    "import tmsn\n",
    "print(tmsn.__doc__)"
   ]
  },
  {
   "cell_type": "code",
   "execution_count": 2,
   "metadata": {},
   "outputs": [
    {
     "name": "stdout",
     "output_type": "stream",
     "text": [
      "Starts a broadcast network using a subscription list.\n",
      "\n",
      "Example: start_network(\"machine_name\", [\"remote_ip_1\", \"remote_ip_2\"], 8080)\n",
      "\n",
      "The network recieves as input a sender and a receiver of two channels, respectively,\n",
      "one for incoming packets and the other for outgoing packets.\n",
      "\n",
      "Each machine maintains a list of subscriptions. The list defines\n",
      "the IPs that this machine is listening to.\n",
      "Initially, this list is provided as the parameter `init_remote_ips`\n",
      "of the function `start_network`.\n",
      "\n",
      "The network structure between the machines are decided by your program, specifically by\n",
      "explicitly setting the list of IPs to be subscribed from each machine.\n",
      "\n",
      "## Parameters\n",
      "* `name` - the local computer name.\n",
      "* `init_remote_ips` - a list of IPs to which this computer makes a connection initially.\n",
      "* `port` - the port number that the machines in the network are listening to.\n",
      "`port` has to be the same value for all machines.\n",
      "\n",
      "Design\n",
      "\n",
      "Initially, the local computer only connects to the computers specificed by the\n",
      "`init_remote_ips` vector in the function parameters (neighbors), and *receive* data from\n",
      "these computers.\n",
      "Specifically, a **Receiver** is created for each neighbor. The connection is initiated by the\n",
      "Receiver. The number of Receivers on a computer is always equal to the number of neighbors.\n",
      "On the other end, only one **Sender** is created for a computer, which send data to all other\n",
      "computers that connected to it.\n",
      "\n"
     ]
    }
   ],
   "source": [
    "print(tmsn.start_network.__doc__)"
   ]
  },
  {
   "cell_type": "code",
   "execution_count": 3,
   "metadata": {},
   "outputs": [
    {
     "name": "stdout",
     "output_type": "stream",
     "text": [
      "Trial 1: No message received, wait 0.5 second.\n",
      "Trial 2: Message received. Message is [1, 2, 3, 4, 5]\n"
     ]
    }
   ],
   "source": [
    "import socket\n",
    "from time import sleep\n",
    "\n",
    "host_name = socket.gethostname()\n",
    "host_addr = socket.gethostbyname(host_name)\n",
    "network = tmsn.start_network(\"worker_name\", [host_addr], 8080)\n",
    "\n",
    "# wait 2 seconds for network to be established\n",
    "sleep(2)\n",
    "\n",
    "# send out data (to ourself)\n",
    "data = bytes([1,2,3,4,5])\n",
    "network.send(data)\n",
    "\n",
    "# now we try to receive it\n",
    "iters = 0\n",
    "ret = network.recv()\n",
    "while not ret and iters < 10:\n",
    "    iters += 1\n",
    "    print(\"Trial {}: No message received, wait 0.5 second.\".format(iters))\n",
    "    sleep(0.5)\n",
    "    # try again\n",
    "    ret = network.recv()\n",
    "print(\"Trial {}: Message received. Message is {}\".format(iters + 1, ret))"
   ]
  },
  {
   "cell_type": "code",
   "execution_count": 4,
   "metadata": {},
   "outputs": [
    {
     "ename": "AddrInUse",
     "evalue": "Failed to bind the listening port",
     "output_type": "error",
     "traceback": [
      "\u001b[0;31m---------------------------------------------------------------------------\u001b[0m",
      "\u001b[0;31mAddrInUse\u001b[0m                                 Traceback (most recent call last)",
      "\u001b[0;32m<ipython-input-4-35d4c52b5783>\u001b[0m in \u001b[0;36m<module>\u001b[0;34m\u001b[0m\n\u001b[1;32m      1\u001b[0m \u001b[0;31m# Trying to establish a new network using the same port will raise exception\u001b[0m\u001b[0;34m\u001b[0m\u001b[0;34m\u001b[0m\u001b[0;34m\u001b[0m\u001b[0m\n\u001b[0;32m----> 2\u001b[0;31m \u001b[0mtmsn\u001b[0m\u001b[0;34m.\u001b[0m\u001b[0mstart_network\u001b[0m\u001b[0;34m(\u001b[0m\u001b[0;34m\"worker_name\"\u001b[0m\u001b[0;34m,\u001b[0m \u001b[0;34m[\u001b[0m\u001b[0mhost_addr\u001b[0m\u001b[0;34m]\u001b[0m\u001b[0;34m,\u001b[0m \u001b[0;36m8080\u001b[0m\u001b[0;34m)\u001b[0m\u001b[0;34m\u001b[0m\u001b[0;34m\u001b[0m\u001b[0m\n\u001b[0m",
      "\u001b[0;31mAddrInUse\u001b[0m: Failed to bind the listening port"
     ]
    }
   ],
   "source": [
    "# Trying to establish a new network using the same port (in this case, 8080) will raise exception\n",
    "tmsn.start_network(\"worker_name\", [host_addr], 8080)"
   ]
  }
 ],
 "metadata": {
  "kernelspec": {
   "display_name": "Python 3",
   "language": "python",
   "name": "python3"
  },
  "language_info": {
   "codemirror_mode": {
    "name": "ipython",
    "version": 3
   },
   "file_extension": ".py",
   "mimetype": "text/x-python",
   "name": "python",
   "nbconvert_exporter": "python",
   "pygments_lexer": "ipython3",
   "version": "3.7.6"
  }
 },
 "nbformat": 4,
 "nbformat_minor": 4
}
