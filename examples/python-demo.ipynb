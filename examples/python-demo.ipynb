{
 "cells": [
  {
   "cell_type": "code",
   "execution_count": 1,
   "metadata": {},
   "outputs": [
    {
     "data": {
      "text/plain": [
       "['AddrInUse',\n",
       " '__all__',\n",
       " '__doc__',\n",
       " '__file__',\n",
       " '__loader__',\n",
       " '__name__',\n",
       " '__package__',\n",
       " '__spec__',\n",
       " 'start_network',\n",
       " 'start_network_only_recv',\n",
       " 'start_network_only_send']"
      ]
     },
     "execution_count": 1,
     "metadata": {},
     "output_type": "execute_result"
    }
   ],
   "source": [
    "import tmsn\n",
    "dir(tmsn)"
   ]
  },
  {
   "cell_type": "code",
   "execution_count": 2,
   "metadata": {},
   "outputs": [
    {
     "name": "stdout",
     "output_type": "stream",
     "text": [
      "Trial 1: No message received.\n",
      "Trial 2: No message received.\n",
      "Trial 2: Message received. Message is [1, 2, 3, 4, 5]\n"
     ]
    }
   ],
   "source": [
    "#\n",
    "# Parameters:\n",
    "#     name: String\n",
    "#     init_remote_ips: Vec<String>\n",
    "#     port: u16\n",
    "#    is_two_way: bool\n",
    "#\n",
    "network = tmsn.start_network(\"worker_name\", [\"127.0.0.1\"], 8080, False)\n",
    "data = bytes([1,2,3,4,5])\n",
    "network.send(data)\n",
    "ret = network.recv()\n",
    "iters = 0\n",
    "while not ret and iters < 10:\n",
    "    iters += 1\n",
    "    ret = network.recv()\n",
    "    print(\"Trial {}: No message received.\".format(iters))\n",
    "print(\"Trial {}: Message received. Message is {}\".format(iters, ret))"
   ]
  },
  {
   "cell_type": "code",
   "execution_count": null,
   "metadata": {},
   "outputs": [],
   "source": []
  }
 ],
 "metadata": {
  "kernelspec": {
   "display_name": "Python 3",
   "language": "python",
   "name": "python3"
  },
  "language_info": {
   "codemirror_mode": {
    "name": "ipython",
    "version": 3
   },
   "file_extension": ".py",
   "mimetype": "text/x-python",
   "name": "python",
   "nbconvert_exporter": "python",
   "pygments_lexer": "ipython3",
   "version": "3.7.6"
  }
 },
 "nbformat": 4,
 "nbformat_minor": 4
}
